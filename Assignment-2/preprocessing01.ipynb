{
 "cells": [
  {
   "cell_type": "code",
   "execution_count": 1,
   "id": "a0995369",
   "metadata": {},
   "outputs": [],
   "source": [
    "import numpy as np\n",
    "import matplotlib.pyplot as plt\n",
    "import pandas as pd"
   ]
  },
  {
   "cell_type": "code",
   "execution_count": 2,
   "id": "a3a2a0b3",
   "metadata": {},
   "outputs": [],
   "source": [
    "dataset = pd.read_csv('Data-marine.csv')\n",
    "x = dataset.iloc[:, :-1].values\n",
    "y = dataset.iloc[:, -1].values"
   ]
  },
  {
   "cell_type": "code",
   "execution_count": 3,
   "id": "e0002951",
   "metadata": {},
   "outputs": [
    {
     "name": "stdout",
     "output_type": "stream",
     "text": [
      "[[2007 'Fisheries and aquaculture' 'Cont. to ME Wage and salary earners'\n",
      "  ... 'Actual' 'LEED' 42.1]\n",
      " [2007 'Fisheries and aquaculture' 'Contribution to marine economy GDP'\n",
      "  ... 'Actual' 'Environmental Accounts' 24.5]\n",
      " [2007 'Fisheries and aquaculture'\n",
      "  'Contribution to marine economy earnings' ... 'Actual' 'LEED' 41.6]\n",
      " ...\n",
      " [2020 'Total marine economy' 'GDP' ... 'Thousands'\n",
      "  'Environmental Accounts' 4549445.0]\n",
      " [2020 'Total marine economy' 'Gross earnings' ... 'Thousands' 'LEED'\n",
      "  2320898.0]\n",
      " [2020 'Total marine economy' 'Wage and salary earners' ... 'Actual'\n",
      "  'LEED' 40572.0]]\n"
     ]
    }
   ],
   "source": [
    "print(x)"
   ]
  },
  {
   "cell_type": "code",
   "execution_count": 4,
   "id": "6f396b1f",
   "metadata": {},
   "outputs": [
    {
     "name": "stdout",
     "output_type": "stream",
     "text": [
      "['R' 'R' 'R' 'F' 'F' 'R' 'R' 'R' 'R' 'R' 'F' 'F' 'R' 'R' 'R' 'R' 'R' 'F'\n",
      " 'R' 'R' 'R' 'R' 'R' 'R' 'F' 'R' 'R' 'R' 'R' 'R' 'F' 'F' 'R' 'R' 'R' 'R'\n",
      " 'R' 'R' 'F' 'R' 'R' 'R' 'R' 'R' 'R' 'F' 'R' 'R' 'R' 'R' 'R' 'R' 'F' 'R'\n",
      " 'R' 'R' 'R' 'R' 'R' 'F' 'R' 'R' 'R' 'R' 'R' 'R' 'F' 'R' 'R' 'R' 'R' 'R'\n",
      " 'R' 'F' 'R' 'R' 'R' 'R' 'R' 'R' 'F' 'R' 'R' 'R' 'P' 'P' 'P' 'P' 'P' 'P'\n",
      " 'P' 'P' 'P' 'P' 'P' 'P' 'P' 'P' 'F' 'F' 'F' 'F' 'F' 'F' 'F' 'F' 'F' 'F'\n",
      " 'F' 'F' 'F' 'F' 'F' 'F' 'F' 'F' 'F' 'F' 'F' 'F' 'F' 'F' 'F' 'F' 'F' 'F'\n",
      " 'F' 'R' 'P' 'P' 'P' 'P' 'P' 'P' 'R' 'F' 'R' 'F' 'F' 'R' 'R' 'R' 'F' 'R'\n",
      " 'F' 'F' 'R' 'R' 'R' 'R' 'R' 'F' 'R' 'R' 'R' 'R' 'R' 'R' 'F' 'R' 'R' 'R'\n",
      " 'R' 'R' 'R' 'F' 'R' 'R' 'R' 'R' 'R' 'R' 'F' 'R' 'R' 'R' 'R' 'R' 'R' 'F'\n",
      " 'R' 'R' 'R' 'R' 'R' 'R' 'F' 'R' 'R' 'R' 'R' 'R' 'R' 'F' 'R' 'R' 'R' 'R'\n",
      " 'R' 'R' 'F' 'R' 'R' 'R' 'R' 'R' 'R' 'F' 'R' 'R' 'R' 'R' 'R' 'R' 'F' 'R'\n",
      " 'R' 'R' 'P' 'P' 'P' 'P' 'P' 'P' 'P' 'P' 'P' 'P' 'P' 'P' 'P' 'P' 'R' 'F'\n",
      " 'R' 'F' 'F' 'R' 'R' 'R' 'F' 'R' 'F' 'F' 'R' 'R' 'R' 'R' 'R' 'F' 'F' 'R'\n",
      " 'R' 'R' 'F' 'R' 'F' 'F' 'R' 'R' 'R' 'R' 'R' 'F' 'F' 'R' 'R' 'R' 'F' 'R'\n",
      " 'F' 'F' 'R' 'R' 'R' 'R' 'R' 'F' 'F' 'R' 'R' 'R' 'R' 'R' 'F' 'F' 'R' 'R'\n",
      " 'R' 'R' 'R' 'F' 'F' 'R' 'R' 'R' 'R' 'R' 'F' 'F' 'R' 'R' 'R' 'R' 'R' 'F'\n",
      " 'F' 'R' 'R' 'R' 'R' 'R' 'F' 'R' 'R' 'R' 'P' 'P' 'P' 'P' 'P' 'P' 'P' 'P'\n",
      " 'P' 'P' 'P' 'P' 'P' 'P' 'R' 'R' 'R' 'F' 'R' 'R' 'R' 'R' 'R' 'R' 'F' 'R'\n",
      " 'R' 'R' 'R' 'R' 'R' 'F' 'R' 'R' 'R' 'R' 'R' 'R' 'F' 'R' 'R' 'R' 'R' 'R'\n",
      " 'R' 'F' 'R' 'R' 'R' 'R' 'R' 'R' 'F' 'R' 'R' 'R' 'R' 'R' 'R' 'F' 'R' 'R'\n",
      " 'R' 'R' 'R' 'R' 'F' 'R' 'R' 'R' 'R' 'R' 'R' 'F' 'R' 'R' 'R' 'R' 'R' 'R'\n",
      " 'F' 'R' 'R' 'R' 'R' 'R' 'R' 'F' 'R' 'R' 'R' 'R' 'R' 'R' 'F' 'R' 'R' 'R'\n",
      " 'P' 'P' 'P' 'P' 'P' 'P' 'P' 'P' 'P' 'P' 'P' 'P' 'P' 'P' 'R' 'R' 'R' 'R'\n",
      " 'R' 'R' 'R' 'R' 'R' 'R' 'R' 'R' 'R' 'R' 'R' 'R' 'R' 'R' 'R' 'R' 'R' 'R'\n",
      " 'R' 'R' 'R' 'R' 'R' 'R' 'R' 'R' 'R' 'R' 'R' 'R' 'R' 'R' 'R' 'R' 'R' 'R'\n",
      " 'R' 'R' 'R' 'R' 'R' 'R' 'R' 'R' 'R' 'R' 'R' 'R' 'R' 'R' 'R' 'R' 'R' 'R'\n",
      " 'R' 'R' 'R' 'R' 'R' 'R' 'R' 'R' 'R' 'R' 'R' 'R' 'R' 'R' 'R' 'R' 'R' 'R'\n",
      " 'R' 'R' 'R' 'R' 'R' 'R' 'R' 'R' 'P' 'P' 'P' 'P' 'P' 'P' 'P' 'P' 'P' 'P'\n",
      " 'P' 'P' 'P' 'P' 'R' 'R' 'R' 'R' 'R' 'R' 'R' 'R' 'R' 'R' 'R' 'R' 'R' 'R'\n",
      " 'R' 'R' 'R' 'R' 'R' 'R' 'R' 'R' 'R' 'R' 'R' 'R' 'R' 'R' 'R' 'R' 'R' 'R'\n",
      " 'R' 'R' 'R' 'R' 'R' 'R' 'R' 'R' 'R' 'R' 'R' 'R' 'R' 'R' 'R' 'R' 'P' 'P'\n",
      " 'P' 'P' 'P' 'P' 'P' 'P']\n"
     ]
    }
   ],
   "source": [
    "print(y)"
   ]
  },
  {
   "cell_type": "code",
   "execution_count": 5,
   "id": "380a9c9c",
   "metadata": {},
   "outputs": [
    {
     "name": "stdout",
     "output_type": "stream",
     "text": [
      "     year                   category                                 variable  \\\n",
      "0    2007  Fisheries and aquaculture      Cont. to ME Wage and salary earners   \n",
      "1    2007  Fisheries and aquaculture       Contribution to marine economy GDP   \n",
      "2    2007  Fisheries and aquaculture  Contribution to marine economy earnings   \n",
      "3    2007  Fisheries and aquaculture                Contribution to total GDP   \n",
      "4    2007  Fisheries and aquaculture                                      GDP   \n",
      "..    ...                        ...                                      ...   \n",
      "577  2019       Total marine economy                  Wage and salary earners   \n",
      "578  2020       Total marine economy                Contribution to total GDP   \n",
      "579  2020       Total marine economy                                      GDP   \n",
      "580  2020       Total marine economy                           Gross earnings   \n",
      "581  2020       Total marine economy                  Wage and salary earners   \n",
      "\n",
      "          units  magnitude                  source  data_value flag  \n",
      "0    Proportion     Actual                    LEED        42.1    R  \n",
      "1    Proportion     Actual  Environmental Accounts        24.5    R  \n",
      "2    Proportion     Actual                    LEED        41.6    R  \n",
      "3    Proportion     Actual  Environmental Accounts         0.4    F  \n",
      "4       Dollars  Thousands  Environmental Accounts    715722.0    F  \n",
      "..          ...        ...                     ...         ...  ...  \n",
      "577      Number     Actual                    LEED     39846.0    P  \n",
      "578  Proportion     Actual  Environmental Accounts         1.4    P  \n",
      "579     Dollars  Thousands  Environmental Accounts   4549445.0    P  \n",
      "580     Dollars  Thousands                    LEED   2320898.0    P  \n",
      "581      Number     Actual                    LEED     40572.0    P  \n",
      "\n",
      "[582 rows x 8 columns]\n"
     ]
    }
   ],
   "source": [
    "print(dataset)"
   ]
  },
  {
   "cell_type": "code",
   "execution_count": 9,
   "id": "796ec002",
   "metadata": {},
   "outputs": [],
   "source": [
    "from sklearn.impute import SimpleImputer\n",
    "imputer = SimpleImputer(missing_values=np.nan, strategy='most_frequent')\n",
    "imputer.fit(x[:, 1:3])\n",
    "x[:, 1:3] = imputer.transform(x[:, 1:3])"
   ]
  },
  {
   "cell_type": "code",
   "execution_count": 10,
   "id": "12d81d04",
   "metadata": {},
   "outputs": [
    {
     "name": "stdout",
     "output_type": "stream",
     "text": [
      "[[2007 'Fisheries and aquaculture' 'Cont. to ME Wage and salary earners'\n",
      "  ... 'Actual' 'LEED' 42.1]\n",
      " [2007 'Fisheries and aquaculture' 'Contribution to marine economy GDP'\n",
      "  ... 'Actual' 'Environmental Accounts' 24.5]\n",
      " [2007 'Fisheries and aquaculture'\n",
      "  'Contribution to marine economy earnings' ... 'Actual' 'LEED' 41.6]\n",
      " ...\n",
      " [2020 'Total marine economy' 'GDP' ... 'Thousands'\n",
      "  'Environmental Accounts' 4549445.0]\n",
      " [2020 'Total marine economy' 'Gross earnings' ... 'Thousands' 'LEED'\n",
      "  2320898.0]\n",
      " [2020 'Total marine economy' 'Wage and salary earners' ... 'Actual'\n",
      "  'LEED' 40572.0]]\n"
     ]
    }
   ],
   "source": [
    "print(x)"
   ]
  },
  {
   "cell_type": "code",
   "execution_count": 11,
   "id": "2ef87fed",
   "metadata": {},
   "outputs": [],
   "source": [
    "from sklearn.compose import ColumnTransformer\n",
    "from sklearn.preprocessing import OneHotEncoder\n",
    "ct = ColumnTransformer(transformers=[('encoder', OneHotEncoder(), [0])], remainder='passthrough')\n",
    "x = np.array(ct.fit_transform(x))"
   ]
  },
  {
   "cell_type": "code",
   "execution_count": 12,
   "id": "c97a04be",
   "metadata": {},
   "outputs": [
    {
     "name": "stdout",
     "output_type": "stream",
     "text": [
      "[[1.0 0.0 0.0 ... 'Actual' 'LEED' 42.1]\n",
      " [1.0 0.0 0.0 ... 'Actual' 'Environmental Accounts' 24.5]\n",
      " [1.0 0.0 0.0 ... 'Actual' 'LEED' 41.6]\n",
      " ...\n",
      " [0.0 0.0 0.0 ... 'Thousands' 'Environmental Accounts' 4549445.0]\n",
      " [0.0 0.0 0.0 ... 'Thousands' 'LEED' 2320898.0]\n",
      " [0.0 0.0 0.0 ... 'Actual' 'LEED' 40572.0]]\n"
     ]
    }
   ],
   "source": [
    "print(x)"
   ]
  },
  {
   "cell_type": "code",
   "execution_count": 13,
   "id": "6c31cc6e",
   "metadata": {},
   "outputs": [],
   "source": [
    "from sklearn.preprocessing import LabelEncoder\n",
    "le = LabelEncoder()\n",
    "y = le.fit_transform(y)"
   ]
  },
  {
   "cell_type": "code",
   "execution_count": 14,
   "id": "3670a79b",
   "metadata": {},
   "outputs": [
    {
     "name": "stdout",
     "output_type": "stream",
     "text": [
      "[2 2 2 0 0 2 2 2 2 2 0 0 2 2 2 2 2 0 2 2 2 2 2 2 0 2 2 2 2 2 0 0 2 2 2 2 2\n",
      " 2 0 2 2 2 2 2 2 0 2 2 2 2 2 2 0 2 2 2 2 2 2 0 2 2 2 2 2 2 0 2 2 2 2 2 2 0\n",
      " 2 2 2 2 2 2 0 2 2 2 1 1 1 1 1 1 1 1 1 1 1 1 1 1 0 0 0 0 0 0 0 0 0 0 0 0 0\n",
      " 0 0 0 0 0 0 0 0 0 0 0 0 0 0 0 0 2 1 1 1 1 1 1 2 0 2 0 0 2 2 2 0 2 0 0 2 2\n",
      " 2 2 2 0 2 2 2 2 2 2 0 2 2 2 2 2 2 0 2 2 2 2 2 2 0 2 2 2 2 2 2 0 2 2 2 2 2\n",
      " 2 0 2 2 2 2 2 2 0 2 2 2 2 2 2 0 2 2 2 2 2 2 0 2 2 2 2 2 2 0 2 2 2 1 1 1 1\n",
      " 1 1 1 1 1 1 1 1 1 1 2 0 2 0 0 2 2 2 0 2 0 0 2 2 2 2 2 0 0 2 2 2 0 2 0 0 2\n",
      " 2 2 2 2 0 0 2 2 2 0 2 0 0 2 2 2 2 2 0 0 2 2 2 2 2 0 0 2 2 2 2 2 0 0 2 2 2\n",
      " 2 2 0 0 2 2 2 2 2 0 0 2 2 2 2 2 0 2 2 2 1 1 1 1 1 1 1 1 1 1 1 1 1 1 2 2 2\n",
      " 0 2 2 2 2 2 2 0 2 2 2 2 2 2 0 2 2 2 2 2 2 0 2 2 2 2 2 2 0 2 2 2 2 2 2 0 2\n",
      " 2 2 2 2 2 0 2 2 2 2 2 2 0 2 2 2 2 2 2 0 2 2 2 2 2 2 0 2 2 2 2 2 2 0 2 2 2\n",
      " 2 2 2 0 2 2 2 1 1 1 1 1 1 1 1 1 1 1 1 1 1 2 2 2 2 2 2 2 2 2 2 2 2 2 2 2 2\n",
      " 2 2 2 2 2 2 2 2 2 2 2 2 2 2 2 2 2 2 2 2 2 2 2 2 2 2 2 2 2 2 2 2 2 2 2 2 2\n",
      " 2 2 2 2 2 2 2 2 2 2 2 2 2 2 2 2 2 2 2 2 2 2 2 2 2 2 2 2 2 2 2 1 1 1 1 1 1\n",
      " 1 1 1 1 1 1 1 1 2 2 2 2 2 2 2 2 2 2 2 2 2 2 2 2 2 2 2 2 2 2 2 2 2 2 2 2 2\n",
      " 2 2 2 2 2 2 2 2 2 2 2 2 2 2 2 2 2 2 2 1 1 1 1 1 1 1 1]\n"
     ]
    }
   ],
   "source": [
    "print(y)"
   ]
  },
  {
   "cell_type": "code",
   "execution_count": 15,
   "id": "7f4e7e1a",
   "metadata": {},
   "outputs": [],
   "source": [
    "from sklearn.model_selection import train_test_split\n",
    "x_train, x_test, y_train, y_test = train_test_split(x, y, test_size = 0.2, random_state = 1)"
   ]
  },
  {
   "cell_type": "code",
   "execution_count": 16,
   "id": "e495f7f3",
   "metadata": {},
   "outputs": [
    {
     "name": "stdout",
     "output_type": "stream",
     "text": [
      "[[0.0 0.0 0.0 ... 'Actual' 'Environmental Accounts' 0.4]\n",
      " [0.0 0.0 0.0 ... 'Actual' 'LEED' 33891.0]\n",
      " [0.0 0.0 0.0 ... 'Thousands' 'LEED' 980011.0]\n",
      " ...\n",
      " [0.0 0.0 0.0 ... 'Actual' 'LEED' 35.3]\n",
      " [1.0 0.0 0.0 ... 'Actual' 'Environmental Accounts' nan]\n",
      " [0.0 0.0 0.0 ... 'Actual' 'LEED' 40.3]]\n"
     ]
    }
   ],
   "source": [
    "print(x_train)"
   ]
  },
  {
   "cell_type": "code",
   "execution_count": 17,
   "id": "d24f4fba",
   "metadata": {},
   "outputs": [
    {
     "name": "stdout",
     "output_type": "stream",
     "text": [
      "[[0.0 0.0 0.0 ... 'Actual' 'Environmental Accounts' 27.9]\n",
      " [0.0 0.0 0.0 ... 'Actual' 'LEED' 3.0]\n",
      " [0.0 0.0 0.0 ... 'Actual' 'LEED' 4.3]\n",
      " ...\n",
      " [0.0 0.0 1.0 ... 'Thousands' 'LEED' 109183.0]\n",
      " [0.0 0.0 0.0 ... 'Actual' 'LEED' 996.0]\n",
      " [1.0 0.0 0.0 ... 'Thousands' 'LEED' 615354.0]]\n"
     ]
    }
   ],
   "source": [
    "print(x_test)"
   ]
  },
  {
   "cell_type": "code",
   "execution_count": 18,
   "id": "14bf479d",
   "metadata": {},
   "outputs": [
    {
     "name": "stdout",
     "output_type": "stream",
     "text": [
      "[0 2 2 1 2 2 2 2 0 0 2 2 1 2 2 0 2 1 2 0 0 0 2 2 2 2 2 2 2 2 1 2 2 1 2 2 2\n",
      " 2 2 1 2 2 2 2 2 0 2 0 2 1 1 2 1 2 0 1 2 0 0 2 1 1 2 0 0 1 2 2 0 2 2 2 2 2\n",
      " 2 2 0 2 2 2 0 2 0 0 2 2 2 2 0 0 0 1 2 2 1 2 0 2 2 0 1 2 2 2 1 2 2 2 0 0 1\n",
      " 1 2 2 2 2 0 2 2 1 2 1 2 2 2 2 1 2 2 0 2 2 2 2 2 2 2 2 2 2 2 2 2 1 0 2 2 2\n",
      " 2 2 2 2 2 1 0 2 2 0 0 2 1 2 0 2 2 2 1 2 2 2 1 2 2 2 2 2 2 1 2 2 2 0 0 0 2\n",
      " 2 0 2 1 2 0 2 0 2 2 2 2 1 2 1 2 2 2 2 2 2 1 2 2 2 1 0 2 1 2 2 2 0 1 2 2 1\n",
      " 2 1 2 1 2 2 2 1 0 2 1 2 1 2 1 2 2 2 0 0 2 2 0 1 2 0 1 2 2 2 1 2 2 0 0 2 2\n",
      " 1 2 2 2 2 2 2 1 2 2 2 2 2 2 2 2 1 1 1 2 2 2 1 2 0 2 2 2 1 2 2 2 2 2 1 2 2\n",
      " 0 0 2 2 2 2 0 0 2 2 2 2 2 1 2 2 2 1 2 2 2 0 2 1 0 2 0 2 0 2 2 2 0 2 2 2 1\n",
      " 2 2 2 2 2 2 0 0 1 1 2 2 2 2 2 1 0 2 1 2 2 2 2 2 2 2 1 0 2 1 2 0 2 2 2 2 2\n",
      " 2 0 2 2 2 2 0 2 0 2 2 2 2 2 2 2 0 2 2 2 2 2 2 0 2 1 0 2 2 2 0 1 2 1 2 2 2\n",
      " 2 2 2 2 0 2 2 2 2 2 2 2 2 2 2 2 2 2 2 1 2 2 2 2 2 2 2 0 2 1 1 2 2 1 2 2 2\n",
      " 1 2 2 2 2 2 2 2 2 2 0 2 2 2 2 2 1 0 2 0 2]\n"
     ]
    }
   ],
   "source": [
    "print(y_train)"
   ]
  },
  {
   "cell_type": "code",
   "execution_count": 19,
   "id": "14d19529",
   "metadata": {},
   "outputs": [
    {
     "name": "stdout",
     "output_type": "stream",
     "text": [
      "[2 1 2 2 2 2 2 1 2 2 2 0 2 2 0 2 1 2 2 1 0 0 2 0 2 2 2 2 1 1 2 2 2 2 2 2 2\n",
      " 0 2 2 0 0 2 0 2 2 2 2 2 2 2 2 1 2 2 2 0 0 2 2 2 0 2 2 2 1 2 2 0 0 0 0 2 2\n",
      " 0 2 2 2 2 0 2 1 2 2 2 2 2 1 2 2 0 2 2 2 2 2 2 2 1 2 1 0 2 2 2 2 0 2 0 0 2\n",
      " 0 2 2 2 2 2]\n"
     ]
    }
   ],
   "source": [
    "print(y_test)"
   ]
  },
  {
   "cell_type": "code",
   "execution_count": 20,
   "id": "a307867d",
   "metadata": {},
   "outputs": [
    {
     "ename": "ValueError",
     "evalue": "could not convert string to float: 'Fisheries and aquaculture'",
     "output_type": "error",
     "traceback": [
      "\u001b[1;31m---------------------------------------------------------------------------\u001b[0m",
      "\u001b[1;31mValueError\u001b[0m                                Traceback (most recent call last)",
      "\u001b[1;32m~\\AppData\\Local\\Temp/ipykernel_8032/3801814100.py\u001b[0m in \u001b[0;36m<module>\u001b[1;34m\u001b[0m\n\u001b[0;32m      1\u001b[0m \u001b[1;32mfrom\u001b[0m \u001b[0msklearn\u001b[0m\u001b[1;33m.\u001b[0m\u001b[0mpreprocessing\u001b[0m \u001b[1;32mimport\u001b[0m \u001b[0mStandardScaler\u001b[0m\u001b[1;33m\u001b[0m\u001b[1;33m\u001b[0m\u001b[0m\n\u001b[0;32m      2\u001b[0m \u001b[0msc\u001b[0m \u001b[1;33m=\u001b[0m \u001b[0mStandardScaler\u001b[0m\u001b[1;33m(\u001b[0m\u001b[1;33m)\u001b[0m\u001b[1;33m\u001b[0m\u001b[1;33m\u001b[0m\u001b[0m\n\u001b[1;32m----> 3\u001b[1;33m \u001b[0mx_train\u001b[0m\u001b[1;33m[\u001b[0m\u001b[1;33m:\u001b[0m\u001b[1;33m,\u001b[0m \u001b[1;36m3\u001b[0m\u001b[1;33m:\u001b[0m\u001b[1;33m]\u001b[0m \u001b[1;33m=\u001b[0m \u001b[0msc\u001b[0m\u001b[1;33m.\u001b[0m\u001b[0mfit_transform\u001b[0m\u001b[1;33m(\u001b[0m\u001b[0mx_train\u001b[0m\u001b[1;33m[\u001b[0m\u001b[1;33m:\u001b[0m\u001b[1;33m,\u001b[0m \u001b[1;36m3\u001b[0m\u001b[1;33m:\u001b[0m\u001b[1;33m]\u001b[0m\u001b[1;33m)\u001b[0m\u001b[1;33m\u001b[0m\u001b[1;33m\u001b[0m\u001b[0m\n\u001b[0m\u001b[0;32m      4\u001b[0m \u001b[0mx_test\u001b[0m\u001b[1;33m[\u001b[0m\u001b[1;33m:\u001b[0m\u001b[1;33m,\u001b[0m \u001b[1;36m3\u001b[0m\u001b[1;33m:\u001b[0m\u001b[1;33m]\u001b[0m \u001b[1;33m=\u001b[0m \u001b[0msc\u001b[0m\u001b[1;33m.\u001b[0m\u001b[0mtransform\u001b[0m\u001b[1;33m(\u001b[0m\u001b[0mx_test\u001b[0m\u001b[1;33m[\u001b[0m\u001b[1;33m:\u001b[0m\u001b[1;33m,\u001b[0m \u001b[1;36m3\u001b[0m\u001b[1;33m:\u001b[0m\u001b[1;33m]\u001b[0m\u001b[1;33m)\u001b[0m\u001b[1;33m\u001b[0m\u001b[1;33m\u001b[0m\u001b[0m\n",
      "\u001b[1;32mC:\\ProgramData\\Anaconda3\\lib\\site-packages\\sklearn\\base.py\u001b[0m in \u001b[0;36mfit_transform\u001b[1;34m(self, X, y, **fit_params)\u001b[0m\n\u001b[0;32m    697\u001b[0m         \u001b[1;32mif\u001b[0m \u001b[0my\u001b[0m \u001b[1;32mis\u001b[0m \u001b[1;32mNone\u001b[0m\u001b[1;33m:\u001b[0m\u001b[1;33m\u001b[0m\u001b[1;33m\u001b[0m\u001b[0m\n\u001b[0;32m    698\u001b[0m             \u001b[1;31m# fit method of arity 1 (unsupervised transformation)\u001b[0m\u001b[1;33m\u001b[0m\u001b[1;33m\u001b[0m\u001b[0m\n\u001b[1;32m--> 699\u001b[1;33m             \u001b[1;32mreturn\u001b[0m \u001b[0mself\u001b[0m\u001b[1;33m.\u001b[0m\u001b[0mfit\u001b[0m\u001b[1;33m(\u001b[0m\u001b[0mX\u001b[0m\u001b[1;33m,\u001b[0m \u001b[1;33m**\u001b[0m\u001b[0mfit_params\u001b[0m\u001b[1;33m)\u001b[0m\u001b[1;33m.\u001b[0m\u001b[0mtransform\u001b[0m\u001b[1;33m(\u001b[0m\u001b[0mX\u001b[0m\u001b[1;33m)\u001b[0m\u001b[1;33m\u001b[0m\u001b[1;33m\u001b[0m\u001b[0m\n\u001b[0m\u001b[0;32m    700\u001b[0m         \u001b[1;32melse\u001b[0m\u001b[1;33m:\u001b[0m\u001b[1;33m\u001b[0m\u001b[1;33m\u001b[0m\u001b[0m\n\u001b[0;32m    701\u001b[0m             \u001b[1;31m# fit method of arity 2 (supervised transformation)\u001b[0m\u001b[1;33m\u001b[0m\u001b[1;33m\u001b[0m\u001b[0m\n",
      "\u001b[1;32mC:\\ProgramData\\Anaconda3\\lib\\site-packages\\sklearn\\preprocessing\\_data.py\u001b[0m in \u001b[0;36mfit\u001b[1;34m(self, X, y, sample_weight)\u001b[0m\n\u001b[0;32m    728\u001b[0m         \u001b[1;31m# Reset internal state before fitting\u001b[0m\u001b[1;33m\u001b[0m\u001b[1;33m\u001b[0m\u001b[0m\n\u001b[0;32m    729\u001b[0m         \u001b[0mself\u001b[0m\u001b[1;33m.\u001b[0m\u001b[0m_reset\u001b[0m\u001b[1;33m(\u001b[0m\u001b[1;33m)\u001b[0m\u001b[1;33m\u001b[0m\u001b[1;33m\u001b[0m\u001b[0m\n\u001b[1;32m--> 730\u001b[1;33m         \u001b[1;32mreturn\u001b[0m \u001b[0mself\u001b[0m\u001b[1;33m.\u001b[0m\u001b[0mpartial_fit\u001b[0m\u001b[1;33m(\u001b[0m\u001b[0mX\u001b[0m\u001b[1;33m,\u001b[0m \u001b[0my\u001b[0m\u001b[1;33m,\u001b[0m \u001b[0msample_weight\u001b[0m\u001b[1;33m)\u001b[0m\u001b[1;33m\u001b[0m\u001b[1;33m\u001b[0m\u001b[0m\n\u001b[0m\u001b[0;32m    731\u001b[0m \u001b[1;33m\u001b[0m\u001b[0m\n\u001b[0;32m    732\u001b[0m     \u001b[1;32mdef\u001b[0m \u001b[0mpartial_fit\u001b[0m\u001b[1;33m(\u001b[0m\u001b[0mself\u001b[0m\u001b[1;33m,\u001b[0m \u001b[0mX\u001b[0m\u001b[1;33m,\u001b[0m \u001b[0my\u001b[0m\u001b[1;33m=\u001b[0m\u001b[1;32mNone\u001b[0m\u001b[1;33m,\u001b[0m \u001b[0msample_weight\u001b[0m\u001b[1;33m=\u001b[0m\u001b[1;32mNone\u001b[0m\u001b[1;33m)\u001b[0m\u001b[1;33m:\u001b[0m\u001b[1;33m\u001b[0m\u001b[1;33m\u001b[0m\u001b[0m\n",
      "\u001b[1;32mC:\\ProgramData\\Anaconda3\\lib\\site-packages\\sklearn\\preprocessing\\_data.py\u001b[0m in \u001b[0;36mpartial_fit\u001b[1;34m(self, X, y, sample_weight)\u001b[0m\n\u001b[0;32m    764\u001b[0m         \"\"\"\n\u001b[0;32m    765\u001b[0m         \u001b[0mfirst_call\u001b[0m \u001b[1;33m=\u001b[0m \u001b[1;32mnot\u001b[0m \u001b[0mhasattr\u001b[0m\u001b[1;33m(\u001b[0m\u001b[0mself\u001b[0m\u001b[1;33m,\u001b[0m \u001b[1;34m\"n_samples_seen_\"\u001b[0m\u001b[1;33m)\u001b[0m\u001b[1;33m\u001b[0m\u001b[1;33m\u001b[0m\u001b[0m\n\u001b[1;32m--> 766\u001b[1;33m         X = self._validate_data(X, accept_sparse=('csr', 'csc'),\n\u001b[0m\u001b[0;32m    767\u001b[0m                                 \u001b[0mestimator\u001b[0m\u001b[1;33m=\u001b[0m\u001b[0mself\u001b[0m\u001b[1;33m,\u001b[0m \u001b[0mdtype\u001b[0m\u001b[1;33m=\u001b[0m\u001b[0mFLOAT_DTYPES\u001b[0m\u001b[1;33m,\u001b[0m\u001b[1;33m\u001b[0m\u001b[1;33m\u001b[0m\u001b[0m\n\u001b[0;32m    768\u001b[0m                                 force_all_finite='allow-nan', reset=first_call)\n",
      "\u001b[1;32mC:\\ProgramData\\Anaconda3\\lib\\site-packages\\sklearn\\base.py\u001b[0m in \u001b[0;36m_validate_data\u001b[1;34m(self, X, y, reset, validate_separately, **check_params)\u001b[0m\n\u001b[0;32m    419\u001b[0m             \u001b[0mout\u001b[0m \u001b[1;33m=\u001b[0m \u001b[0mX\u001b[0m\u001b[1;33m\u001b[0m\u001b[1;33m\u001b[0m\u001b[0m\n\u001b[0;32m    420\u001b[0m         \u001b[1;32melif\u001b[0m \u001b[0misinstance\u001b[0m\u001b[1;33m(\u001b[0m\u001b[0my\u001b[0m\u001b[1;33m,\u001b[0m \u001b[0mstr\u001b[0m\u001b[1;33m)\u001b[0m \u001b[1;32mand\u001b[0m \u001b[0my\u001b[0m \u001b[1;33m==\u001b[0m \u001b[1;34m'no_validation'\u001b[0m\u001b[1;33m:\u001b[0m\u001b[1;33m\u001b[0m\u001b[1;33m\u001b[0m\u001b[0m\n\u001b[1;32m--> 421\u001b[1;33m             \u001b[0mX\u001b[0m \u001b[1;33m=\u001b[0m \u001b[0mcheck_array\u001b[0m\u001b[1;33m(\u001b[0m\u001b[0mX\u001b[0m\u001b[1;33m,\u001b[0m \u001b[1;33m**\u001b[0m\u001b[0mcheck_params\u001b[0m\u001b[1;33m)\u001b[0m\u001b[1;33m\u001b[0m\u001b[1;33m\u001b[0m\u001b[0m\n\u001b[0m\u001b[0;32m    422\u001b[0m             \u001b[0mout\u001b[0m \u001b[1;33m=\u001b[0m \u001b[0mX\u001b[0m\u001b[1;33m\u001b[0m\u001b[1;33m\u001b[0m\u001b[0m\n\u001b[0;32m    423\u001b[0m         \u001b[1;32melse\u001b[0m\u001b[1;33m:\u001b[0m\u001b[1;33m\u001b[0m\u001b[1;33m\u001b[0m\u001b[0m\n",
      "\u001b[1;32mC:\\ProgramData\\Anaconda3\\lib\\site-packages\\sklearn\\utils\\validation.py\u001b[0m in \u001b[0;36minner_f\u001b[1;34m(*args, **kwargs)\u001b[0m\n\u001b[0;32m     61\u001b[0m             \u001b[0mextra_args\u001b[0m \u001b[1;33m=\u001b[0m \u001b[0mlen\u001b[0m\u001b[1;33m(\u001b[0m\u001b[0margs\u001b[0m\u001b[1;33m)\u001b[0m \u001b[1;33m-\u001b[0m \u001b[0mlen\u001b[0m\u001b[1;33m(\u001b[0m\u001b[0mall_args\u001b[0m\u001b[1;33m)\u001b[0m\u001b[1;33m\u001b[0m\u001b[1;33m\u001b[0m\u001b[0m\n\u001b[0;32m     62\u001b[0m             \u001b[1;32mif\u001b[0m \u001b[0mextra_args\u001b[0m \u001b[1;33m<=\u001b[0m \u001b[1;36m0\u001b[0m\u001b[1;33m:\u001b[0m\u001b[1;33m\u001b[0m\u001b[1;33m\u001b[0m\u001b[0m\n\u001b[1;32m---> 63\u001b[1;33m                 \u001b[1;32mreturn\u001b[0m \u001b[0mf\u001b[0m\u001b[1;33m(\u001b[0m\u001b[1;33m*\u001b[0m\u001b[0margs\u001b[0m\u001b[1;33m,\u001b[0m \u001b[1;33m**\u001b[0m\u001b[0mkwargs\u001b[0m\u001b[1;33m)\u001b[0m\u001b[1;33m\u001b[0m\u001b[1;33m\u001b[0m\u001b[0m\n\u001b[0m\u001b[0;32m     64\u001b[0m \u001b[1;33m\u001b[0m\u001b[0m\n\u001b[0;32m     65\u001b[0m             \u001b[1;31m# extra_args > 0\u001b[0m\u001b[1;33m\u001b[0m\u001b[1;33m\u001b[0m\u001b[0m\n",
      "\u001b[1;32mC:\\ProgramData\\Anaconda3\\lib\\site-packages\\sklearn\\utils\\validation.py\u001b[0m in \u001b[0;36mcheck_array\u001b[1;34m(array, accept_sparse, accept_large_sparse, dtype, order, copy, force_all_finite, ensure_2d, allow_nd, ensure_min_samples, ensure_min_features, estimator)\u001b[0m\n\u001b[0;32m    671\u001b[0m                     \u001b[0marray\u001b[0m \u001b[1;33m=\u001b[0m \u001b[0marray\u001b[0m\u001b[1;33m.\u001b[0m\u001b[0mastype\u001b[0m\u001b[1;33m(\u001b[0m\u001b[0mdtype\u001b[0m\u001b[1;33m,\u001b[0m \u001b[0mcasting\u001b[0m\u001b[1;33m=\u001b[0m\u001b[1;34m\"unsafe\"\u001b[0m\u001b[1;33m,\u001b[0m \u001b[0mcopy\u001b[0m\u001b[1;33m=\u001b[0m\u001b[1;32mFalse\u001b[0m\u001b[1;33m)\u001b[0m\u001b[1;33m\u001b[0m\u001b[1;33m\u001b[0m\u001b[0m\n\u001b[0;32m    672\u001b[0m                 \u001b[1;32melse\u001b[0m\u001b[1;33m:\u001b[0m\u001b[1;33m\u001b[0m\u001b[1;33m\u001b[0m\u001b[0m\n\u001b[1;32m--> 673\u001b[1;33m                     \u001b[0marray\u001b[0m \u001b[1;33m=\u001b[0m \u001b[0mnp\u001b[0m\u001b[1;33m.\u001b[0m\u001b[0masarray\u001b[0m\u001b[1;33m(\u001b[0m\u001b[0marray\u001b[0m\u001b[1;33m,\u001b[0m \u001b[0morder\u001b[0m\u001b[1;33m=\u001b[0m\u001b[0morder\u001b[0m\u001b[1;33m,\u001b[0m \u001b[0mdtype\u001b[0m\u001b[1;33m=\u001b[0m\u001b[0mdtype\u001b[0m\u001b[1;33m)\u001b[0m\u001b[1;33m\u001b[0m\u001b[1;33m\u001b[0m\u001b[0m\n\u001b[0m\u001b[0;32m    674\u001b[0m             \u001b[1;32mexcept\u001b[0m \u001b[0mComplexWarning\u001b[0m \u001b[1;32mas\u001b[0m \u001b[0mcomplex_warning\u001b[0m\u001b[1;33m:\u001b[0m\u001b[1;33m\u001b[0m\u001b[1;33m\u001b[0m\u001b[0m\n\u001b[0;32m    675\u001b[0m                 raise ValueError(\"Complex data not supported\\n\"\n",
      "\u001b[1;32mC:\\ProgramData\\Anaconda3\\lib\\site-packages\\numpy\\core\\_asarray.py\u001b[0m in \u001b[0;36masarray\u001b[1;34m(a, dtype, order, like)\u001b[0m\n\u001b[0;32m    100\u001b[0m         \u001b[1;32mreturn\u001b[0m \u001b[0m_asarray_with_like\u001b[0m\u001b[1;33m(\u001b[0m\u001b[0ma\u001b[0m\u001b[1;33m,\u001b[0m \u001b[0mdtype\u001b[0m\u001b[1;33m=\u001b[0m\u001b[0mdtype\u001b[0m\u001b[1;33m,\u001b[0m \u001b[0morder\u001b[0m\u001b[1;33m=\u001b[0m\u001b[0morder\u001b[0m\u001b[1;33m,\u001b[0m \u001b[0mlike\u001b[0m\u001b[1;33m=\u001b[0m\u001b[0mlike\u001b[0m\u001b[1;33m)\u001b[0m\u001b[1;33m\u001b[0m\u001b[1;33m\u001b[0m\u001b[0m\n\u001b[0;32m    101\u001b[0m \u001b[1;33m\u001b[0m\u001b[0m\n\u001b[1;32m--> 102\u001b[1;33m     \u001b[1;32mreturn\u001b[0m \u001b[0marray\u001b[0m\u001b[1;33m(\u001b[0m\u001b[0ma\u001b[0m\u001b[1;33m,\u001b[0m \u001b[0mdtype\u001b[0m\u001b[1;33m,\u001b[0m \u001b[0mcopy\u001b[0m\u001b[1;33m=\u001b[0m\u001b[1;32mFalse\u001b[0m\u001b[1;33m,\u001b[0m \u001b[0morder\u001b[0m\u001b[1;33m=\u001b[0m\u001b[0morder\u001b[0m\u001b[1;33m)\u001b[0m\u001b[1;33m\u001b[0m\u001b[1;33m\u001b[0m\u001b[0m\n\u001b[0m\u001b[0;32m    103\u001b[0m \u001b[1;33m\u001b[0m\u001b[0m\n\u001b[0;32m    104\u001b[0m \u001b[1;33m\u001b[0m\u001b[0m\n",
      "\u001b[1;31mValueError\u001b[0m: could not convert string to float: 'Fisheries and aquaculture'"
     ]
    }
   ],
   "source": [
    "from sklearn.preprocessing import StandardScaler\n",
    "sc = StandardScaler()\n",
    "x_train[:, 3:] = sc.fit_transform(x_train[:, 3:])\n",
    "x_test[:, 3:] = sc.transform(x_test[:, 3:])"
   ]
  },
  {
   "cell_type": "code",
   "execution_count": null,
   "id": "e62af896",
   "metadata": {},
   "outputs": [],
   "source": []
  }
 ],
 "metadata": {
  "kernelspec": {
   "display_name": "Python 3 (ipykernel)",
   "language": "python",
   "name": "python3"
  },
  "language_info": {
   "codemirror_mode": {
    "name": "ipython",
    "version": 3
   },
   "file_extension": ".py",
   "mimetype": "text/x-python",
   "name": "python",
   "nbconvert_exporter": "python",
   "pygments_lexer": "ipython3",
   "version": "3.9.7"
  }
 },
 "nbformat": 4,
 "nbformat_minor": 5
}
